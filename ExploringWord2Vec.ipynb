{
  "nbformat": 4,
  "nbformat_minor": 0,
  "metadata": {
    "colab": {
      "name": "ExploringWord2Vec.ipynb",
      "provenance": [],
      "collapsed_sections": [],
      "include_colab_link": true
    },
    "language_info": {
      "codemirror_mode": {
        "name": "ipython",
        "version": 3
      },
      "file_extension": ".py",
      "mimetype": "text/x-python",
      "name": "python",
      "nbconvert_exporter": "python",
      "pygments_lexer": "ipython3",
      "version": "3.7.1"
    },
    "kernelspec": {
      "name": "python3",
      "display_name": "Python 3"
    },
    "accelerator": "GPU"
  },
  "cells": [
    {
      "cell_type": "markdown",
      "metadata": {
        "id": "view-in-github",
        "colab_type": "text"
      },
      "source": [
        "<a href=\"https://colab.research.google.com/github/g-iyer/XCS224N-GI/blob/main/ExploringWord2Vec.ipynb\" target=\"_parent\"><img src=\"https://colab.research.google.com/assets/colab-badge.svg\" alt=\"Open In Colab\"/></a>"
      ]
    },
    {
      "cell_type": "markdown",
      "metadata": {
        "id": "1ZcUP8hOcIHt"
      },
      "source": [
        "# XCS224N Assignment 1 Part 2: Experimenting with Word2Vec Embeddings (15 Points)\n",
        "\n",
        "Before you start, make sure you read the [XCS224N Assignment 1 PDF Handout](https://github.com/scpd-proed/XCS224N-A1/blob/master/A1.pdf).\n",
        "\n",
        "**The functions used below are case sensitive** (for example \"strong\" and \"Strong\" can give different output). Please make that your string inputs to the below functions are exactly as given in the quiz.\n"
      ]
    },
    {
      "cell_type": "code",
      "metadata": {
        "id": "UMX2qGcLcIHx"
      },
      "source": [
        "# All Import Statements Defined Here\n",
        "# Note: Do not add to this list.\n",
        "# All the dependencies you need can be installed by running this cell.\n",
        "# Throughout this notebook you can run a cell by hitting CTRL+RETURN or the Play button/icon at left\n",
        "# ----------------\n",
        "\n",
        "import sys\n",
        "assert sys.version_info[0]==3\n",
        "assert sys.version_info[1] >= 5\n",
        "\n",
        "from gensim.models import KeyedVectors\n",
        "from gensim.test.utils import datapath\n",
        "import pprint\n",
        "import matplotlib.pyplot as plt\n",
        "\n",
        "# ----------------"
      ],
      "execution_count": 1,
      "outputs": []
    },
    {
      "cell_type": "markdown",
      "metadata": {
        "id": "7NsuZre3cII4"
      },
      "source": [
        "As discussed in class, more recently prediction-based word vectors have come into fashion, e.g. word2vec. Here, we shall explore the embeddings produced by word2vec. Please revisit the class notes and lecture slides for more details on the word2vec algorithm. If you're feeling adventurous, challenge yourself and try reading the [original paper](https://papers.nips.cc/paper/5021-distributed-representations-of-words-and-phrases-and-their-compositionality.pdf).\n",
        "\n",
        "Then run the following cells to load the word2vec vectors into memory. **_Note: This could take several minutes._**"
      ]
    },
    {
      "cell_type": "code",
      "metadata": {
        "id": "xffIF_HLcII5"
      },
      "source": [
        "def load_word2vec():\n",
        "    \"\"\" Load Word2Vec Vectors\n",
        "        Return:\n",
        "            wv_from_bin: 2.5 million of 3 million embeddings, each lengh 300\n",
        "    \"\"\"\n",
        "    import gensim.downloader as api\n",
        "    from gensim.models import KeyedVectors\n",
        "    # let's load 2.5 million of the 3 million word embeddings so we don't run out of memory on Colab\n",
        "    wv_from_bin = KeyedVectors.load_word2vec_format(api.load(\"word2vec-google-news-300\", return_path=True), limit=2500000, binary=True)\n",
        "    vocab = list(wv_from_bin.vocab.keys())\n",
        "    print(\"Loaded vocab size %i\" % len(vocab))\n",
        "    return wv_from_bin"
      ],
      "execution_count": 2,
      "outputs": []
    },
    {
      "cell_type": "code",
      "metadata": {
        "id": "auC2oPKqcII9",
        "outputId": "4e874780-4279-44fe-fa7d-e36233987047",
        "colab": {
          "base_uri": "https://localhost:8080/"
        }
      },
      "source": [
        "# -----------------------------------\n",
        "# Run Cell to Load Word Vectors\n",
        "# Note: This may take several minutes\n",
        "# -----------------------------------\n",
        "wv_from_bin = load_word2vec()"
      ],
      "execution_count": 3,
      "outputs": [
        {
          "output_type": "stream",
          "name": "stdout",
          "text": [
            "[==================================================] 100.0% 1662.8/1662.8MB downloaded\n",
            "Loaded vocab size 2500000\n"
          ]
        }
      ]
    },
    {
      "cell_type": "markdown",
      "metadata": {
        "id": "nutxSVMXcIJQ"
      },
      "source": [
        "###Question 1 (2 points)\n",
        "\n",
        "The first question relates to the plot from the first part of the assignment. Please visit the [Assignment 1 PDF](https://github.com/scpd-proed/XCS224N-A1/blob/master/A1.pdf) for further details. \n",
        "\n"
      ]
    },
    {
      "cell_type": "markdown",
      "metadata": {
        "id": "Hx-f7eIbSkxx"
      },
      "source": [
        "\n",
        "### Cosine Similarity\n",
        "Now that we have word vectors, we need a way to quantify the similarity between individual words, according to these vectors. One such metric is cosine-similarity. We will be using this to find words that are \"close\" and \"far\" from one another.\n",
        "\n",
        "We can think of n-dimensional vectors as points in n-dimensional space. If we take this perspective L1 and L2 Distances help quantify the amount of space \"we must travel\" to get between these two points. Another approach is to examine the angle between two vectors. From trigonometry we know that:\n",
        "\n",
        "<img src=\"https://drive.google.com/uc?id=1PEmKQxxs5XB-N1Hz-jr514iWoqa62MgL\" width=20% style=\"float: center;\"></img>\n",
        "\n",
        "Instead of computing the actual angle, we can leave the similarity in terms of $similarity = cos(\\Theta)$. Formally the [Cosine Similarity](https://en.wikipedia.org/wiki/Cosine_similarity) $s$ between two vectors $p$ and $q$ is defined as:\n",
        "\n",
        "$$s = \\frac{p \\cdot q}{||p|| ||q||}, \\textrm{ where } s \\in [-1, 1] $$ "
      ]
    },
    {
      "cell_type": "markdown",
      "metadata": {
        "id": "01SfDtSHcIJQ"
      },
      "source": [
        "### Questions 2-3: Homonymns and Similarity (4 points)\n",
        "\n",
        "Homonyms are words with more than one meaning. We want to see how our word embeddings capture this phenomenon for such words. We are going to test if, for certain homonyms, the top-10 most similar words (according to cosine similarity) contain related words from *both* meanings. For example, \"leaves\" has both \"vanishes\" and \"stalks\" in the top 10, and \"scoop\" has both \"handed_waffle_cone\" and \"lowdown\". \n",
        "\n",
        "**Note**: You should use the `wv_from_bin.most_similar(word)` function to get the top 10 similar words. This function ranks all other words in the vocabulary with respect to their cosine similarity to the given word. For further assistance please check the __[GenSim documentation](https://radimrehurek.com/gensim/models/keyedvectors.html#gensim.models.keyedvectors.FastTextKeyedVectors.most_similar)__.\n"
      ]
    },
    {
      "cell_type": "code",
      "metadata": {
        "id": "NT1TUUT0cIJR",
        "colab": {
          "base_uri": "https://localhost:8080/"
        },
        "outputId": "3c500737-285b-498c-8199-3258cad3bfc9"
      },
      "source": [
        "### Run this cell to print out the Top-10 most similar words\n",
        "### Try the sample and then use this cell to complete Questions 2-10 in the companion quiz \n",
        "\n",
        "wv_from_bin.most_similar(\"mole\")"
      ],
      "execution_count": 5,
      "outputs": [
        {
          "output_type": "execute_result",
          "data": {
            "text/plain": [
              "[('moles', 0.6953788995742798),\n",
              " ('pollo_en', 0.5143669247627258),\n",
              " ('freckle', 0.4829963445663452),\n",
              " ('cancerous_mole', 0.4787973165512085),\n",
              " ('birthmark', 0.46605658531188965),\n",
              " ('unibrow', 0.46520644426345825),\n",
              " ('spies', 0.4556558132171631),\n",
              " ('nodule', 0.45305347442626953),\n",
              " ('pube', 0.4359903931617737),\n",
              " ('wart', 0.4358214735984802)]"
            ]
          },
          "metadata": {},
          "execution_count": 5
        }
      ]
    },
    {
      "cell_type": "code",
      "source": [
        ""
      ],
      "metadata": {
        "id": "UXTWk9GrYnRZ"
      },
      "execution_count": null,
      "outputs": []
    },
    {
      "cell_type": "code",
      "metadata": {
        "colab": {
          "base_uri": "https://localhost:8080/"
        },
        "outputId": "f0b59454-952d-492f-a2b7-a23044f158e4",
        "id": "JRzi0kJUYtp_"
      },
      "source": [
        "### Run this cell to print out the Top-10 most similar words\n",
        "### Try the sample and then use this cell to complete Questions 2-10 in the companion quiz \n",
        "\n",
        "wv_from_bin.most_similar(\"left\")"
      ],
      "execution_count": 6,
      "outputs": [
        {
          "output_type": "execute_result",
          "data": {
            "text/plain": [
              "[('leaving', 0.6707000732421875),\n",
              " ('leave', 0.525093138217926),\n",
              " ('leaves', 0.5228645205497742),\n",
              " ('returned', 0.5059226751327515),\n",
              " ('right', 0.49213987588882446),\n",
              " ('departed', 0.49109700322151184),\n",
              " ('limped', 0.4859950542449951),\n",
              " ('went', 0.4719872772693634),\n",
              " ('remaining', 0.465037077665329),\n",
              " ('empty', 0.4546155631542206)]"
            ]
          },
          "metadata": {},
          "execution_count": 6
        }
      ]
    },
    {
      "cell_type": "code",
      "metadata": {
        "colab": {
          "base_uri": "https://localhost:8080/"
        },
        "outputId": "59b90fa8-8cc8-4f23-d7f5-b4c350e6125f",
        "id": "uaEYMEruYuzq"
      },
      "source": [
        "### Run this cell to print out the Top-10 most similar words\n",
        "### Try the sample and then use this cell to complete Questions 2-10 in the companion quiz \n",
        "\n",
        "wv_from_bin.most_similar(\"nuts\")"
      ],
      "execution_count": 7,
      "outputs": [
        {
          "output_type": "execute_result",
          "data": {
            "text/plain": [
              "[('nut', 0.6487677097320557),\n",
              " ('crazy', 0.5603705644607544),\n",
              " ('nutty', 0.5235902070999146),\n",
              " ('bonkers', 0.5152066349983215),\n",
              " ('pecans_almonds', 0.4788070321083069),\n",
              " ('Neekam_proprietary_Blog', 0.47333618998527527),\n",
              " ('walnuts', 0.4707028865814209),\n",
              " ('regular_BetUS.com_columnists', 0.47036081552505493),\n",
              " ('allergics', 0.47001171112060547),\n",
              " ('batty', 0.46987098455429077)]"
            ]
          },
          "metadata": {},
          "execution_count": 7
        }
      ]
    },
    {
      "cell_type": "code",
      "metadata": {
        "colab": {
          "base_uri": "https://localhost:8080/"
        },
        "outputId": "b7b5e165-20c7-453f-ce6d-1e5d4280db6f",
        "id": "Wf_Z3E8eYvRM"
      },
      "source": [
        "### Run this cell to print out the Top-10 most similar words\n",
        "### Try the sample and then use this cell to complete Questions 2-10 in the companion quiz \n",
        "\n",
        "wv_from_bin.most_similar(\"pen\")"
      ],
      "execution_count": 8,
      "outputs": [
        {
          "output_type": "execute_result",
          "data": {
            "text/plain": [
              "[('pens', 0.7111663818359375),\n",
              " ('pencil', 0.5767994523048401),\n",
              " ('quill', 0.5656782388687134),\n",
              " ('ballpoint', 0.5653775334358215),\n",
              " ('ballpoint_pen', 0.5415062308311462),\n",
              " ('feather_quill', 0.5316811203956604),\n",
              " ('notepad', 0.5266302227973938),\n",
              " ('quill_pen', 0.5166343450546265),\n",
              " ('biro', 0.514026403427124),\n",
              " ('fountain_pen', 0.5093279480934143)]"
            ]
          },
          "metadata": {},
          "execution_count": 8
        }
      ]
    },
    {
      "cell_type": "code",
      "source": [
        ""
      ],
      "metadata": {
        "id": "VRNGyXhAbcQd"
      },
      "execution_count": null,
      "outputs": []
    },
    {
      "cell_type": "code",
      "metadata": {
        "colab": {
          "base_uri": "https://localhost:8080/"
        },
        "outputId": "e2df10af-c6a6-4ead-c970-d0cd0e7e265d",
        "id": "5Dpzis6Kbgcp"
      },
      "source": [
        "### Run this cell to print out the Top-10 most similar words\n",
        "### Try the sample and then use this cell to complete Questions 2-10 in the companion quiz \n",
        "\n",
        "wv_from_bin.most_similar(\"right\")"
      ],
      "execution_count": 9,
      "outputs": [
        {
          "output_type": "execute_result",
          "data": {
            "text/plain": [
              "[('Right', 0.5703941583633423),\n",
              " ('wrong', 0.5534271001815796),\n",
              " ('##.Help_us', 0.5502839684486389),\n",
              " ('Goodwill_Catanese', 0.5159174799919128),\n",
              " ('left', 0.49213987588882446),\n",
              " ('fielder_Joe_Borchard', 0.48948538303375244),\n",
              " ('fielder_Ambiorix_Concepcion', 0.4841775894165039),\n",
              " ('now', 0.4794555902481079),\n",
              " ('fielder_Jeromy_Burnitz', 0.47718381881713867),\n",
              " ('fielder_Lucas_Duda', 0.47022590041160583)]"
            ]
          },
          "metadata": {},
          "execution_count": 9
        }
      ]
    },
    {
      "cell_type": "code",
      "metadata": {
        "colab": {
          "base_uri": "https://localhost:8080/"
        },
        "outputId": "f794fa90-63c1-4ae1-9217-f31e702652b6",
        "id": "xzvWHdiNbhD1"
      },
      "source": [
        "### Run this cell to print out the Top-10 most similar words\n",
        "### Try the sample and then use this cell to complete Questions 2-10 in the companion quiz \n",
        "\n",
        "wv_from_bin.most_similar(\"drive\")"
      ],
      "execution_count": 10,
      "outputs": [
        {
          "output_type": "execute_result",
          "data": {
            "text/plain": [
              "[('drives', 0.7914609909057617),\n",
              " ('driving', 0.5405872464179993),\n",
              " ('drove', 0.5120137929916382),\n",
              " ('push', 0.4905555248260498),\n",
              " ('run', 0.4834049642086029),\n",
              " ('driven', 0.44512295722961426),\n",
              " ('Drives', 0.42788973450660706),\n",
              " ('SFF_SAS', 0.4223554730415344),\n",
              " ('bootable_flash', 0.41521167755126953),\n",
              " ('SanDisk_Ultra_Backup', 0.414913147687912)]"
            ]
          },
          "metadata": {},
          "execution_count": 10
        }
      ]
    },
    {
      "cell_type": "code",
      "metadata": {
        "colab": {
          "base_uri": "https://localhost:8080/"
        },
        "outputId": "774b529b-ae9b-4c06-cd41-34f8c2b760ff",
        "id": "h9jDcfUobkC2"
      },
      "source": [
        "### Run this cell to print out the Top-10 most similar words\n",
        "### Try the sample and then use this cell to complete Questions 2-10 in the companion quiz \n",
        "\n",
        "wv_from_bin.most_similar(\"rose\")"
      ],
      "execution_count": 11,
      "outputs": [
        {
          "output_type": "execute_result",
          "data": {
            "text/plain": [
              "[('surged', 0.8056201338768005),\n",
              " ('climbed', 0.8045108914375305),\n",
              " ('soared', 0.7695155143737793),\n",
              " ('fell', 0.7688519954681396),\n",
              " ('tumbled', 0.7256063222885132),\n",
              " ('dipped', 0.720984697341919),\n",
              " ('jumped', 0.6997674107551575),\n",
              " ('inched', 0.6791028380393982),\n",
              " ('risen', 0.6686744093894958),\n",
              " ('plunged', 0.663558840751648)]"
            ]
          },
          "metadata": {},
          "execution_count": 11
        }
      ]
    },
    {
      "cell_type": "code",
      "metadata": {
        "colab": {
          "base_uri": "https://localhost:8080/"
        },
        "outputId": "8227a5ae-c986-43c7-971b-1eeb431bd779",
        "id": "H1TXD-zjbkMD"
      },
      "source": [
        "### Run this cell to print out the Top-10 most similar words\n",
        "### Try the sample and then use this cell to complete Questions 2-10 in the companion quiz \n",
        "\n",
        "wv_from_bin.most_similar(\"mean\")"
      ],
      "execution_count": 12,
      "outputs": [
        {
          "output_type": "execute_result",
          "data": {
            "text/plain": [
              "[('means', 0.6425307989120483),\n",
              " ('imply', 0.620326042175293),\n",
              " ('equate', 0.5891612768173218),\n",
              " ('necessarily', 0.5722533464431763),\n",
              " ('necessitate', 0.5695107579231262),\n",
              " ('entail', 0.5649572610855103),\n",
              " ('bode_well', 0.5476653575897217),\n",
              " ('portend', 0.5455029010772705),\n",
              " ('do', 0.5375761985778809),\n",
              " ('anyway', 0.5220909118652344)]"
            ]
          },
          "metadata": {},
          "execution_count": 12
        }
      ]
    },
    {
      "cell_type": "code",
      "metadata": {
        "colab": {
          "base_uri": "https://localhost:8080/"
        },
        "outputId": "7dfe081e-2e26-4b74-bdfd-8696ca4f947e",
        "id": "HAnlr5ElbkWj"
      },
      "source": [
        "### Run this cell to print out the Top-10 most similar words\n",
        "### Try the sample and then use this cell to complete Questions 2-10 in the companion quiz \n",
        "\n",
        "wv_from_bin.most_similar(\"saw\")"
      ],
      "execution_count": 13,
      "outputs": [
        {
          "output_type": "execute_result",
          "data": {
            "text/plain": [
              "[('noticed', 0.5968518853187561),\n",
              " ('witnessed', 0.5899658203125),\n",
              " ('seeing', 0.5811247825622559),\n",
              " ('looked', 0.567682683467865),\n",
              " ('came', 0.5614316463470459),\n",
              " ('watched', 0.5570547580718994),\n",
              " ('seen', 0.5488225221633911),\n",
              " ('showed', 0.5405093431472778),\n",
              " ('went', 0.5265681743621826),\n",
              " ('see', 0.515012264251709)]"
            ]
          },
          "metadata": {},
          "execution_count": 13
        }
      ]
    },
    {
      "cell_type": "markdown",
      "metadata": {
        "id": "K5-CpkCmcIJV"
      },
      "source": [
        "### Questions 4-5: Synonyms & Antonyms (4 points) \n",
        "\n",
        "When considering Cosine Similarity, it's often more convenient to think of Cosine Distance, which is simply (1 - Cosine Similarity).\n",
        "\n",
        "We will look for triplets of words (w1,w2,w3) where w1 and w2 are synonyms and w1 and w3 are antonyms, but Cosine Distance(w1,w3) < Cosine Distance(w1,w2). For example, w1=\"happy\" is closer to w3=\"sad\" than to w2=\"cheerful\".\n",
        "\n",
        "You should use the the `wv_from_bin.distance(w1, w2)` function here in order to compute the cosine distance between two words. Please see the __[GenSim documentation](https://radimrehurek.com/gensim/models/keyedvectors.html#gensim.models.keyedvectors.FastTextKeyedVectors.distance)__ for further assistance.\n"
      ]
    },
    {
      "cell_type": "code",
      "metadata": {
        "id": "uqZN_746cIJV",
        "colab": {
          "base_uri": "https://localhost:8080/"
        },
        "outputId": "ace68a7b-3f65-4868-8b36-ce37ccdedf74"
      },
      "source": [
        "### Run this cell to compare cosine distances between synonyms and antonyms\n",
        "### Try the sample and then use this cell to complete Questions 11-19 in the companion quiz\n",
        "\n",
        "w1 = \"happy\"\n",
        "w2 = \"cheerful\"\n",
        "w3 = \"sad\"\n",
        "w1_w2_dist = wv_from_bin.distance(w1, w2)\n",
        "w1_w3_dist = wv_from_bin.distance(w1, w3)\n",
        "\n",
        "print(\"Synonyms {}, {} have cosine distance: {}\".format(w1, w2, w1_w2_dist))\n",
        "print(\"Antonyms {}, {} have cosine distance: {}\".format(w1, w3, w1_w3_dist))\n"
      ],
      "execution_count": 14,
      "outputs": [
        {
          "output_type": "stream",
          "name": "stdout",
          "text": [
            "Synonyms happy, cheerful have cosine distance: 0.6162261664867401\n",
            "Antonyms happy, sad have cosine distance: 0.46453857421875\n"
          ]
        }
      ]
    },
    {
      "cell_type": "code",
      "source": [
        ""
      ],
      "metadata": {
        "id": "zgoqIUvwdDIM"
      },
      "execution_count": null,
      "outputs": []
    },
    {
      "cell_type": "code",
      "metadata": {
        "outputId": "ace68a7b-3f65-4868-8b36-ce37ccdedf74",
        "colab": {
          "base_uri": "https://localhost:8080/"
        },
        "id": "dQb_TnzGdGxF"
      },
      "source": [
        "### Run this cell to compare cosine distances between synonyms and antonyms\n",
        "### Try the sample and then use this cell to complete Questions 11-19 in the companion quiz\n",
        "\n",
        "w1 = \"happy\"\n",
        "w2 = \"cheerful\"\n",
        "w3 = \"sad\"\n",
        "w1_w2_dist = wv_from_bin.distance(w1, w2)\n",
        "w1_w3_dist = wv_from_bin.distance(w1, w3)\n",
        "\n",
        "print(\"Synonyms {}, {} have cosine distance: {}\".format(w1, w2, w1_w2_dist))\n",
        "print(\"Antonyms {}, {} have cosine distance: {}\".format(w1, w3, w1_w3_dist))\n"
      ],
      "execution_count": null,
      "outputs": [
        {
          "output_type": "stream",
          "name": "stdout",
          "text": [
            "Synonyms happy, cheerful have cosine distance: 0.6162261664867401\n",
            "Antonyms happy, sad have cosine distance: 0.46453857421875\n"
          ]
        }
      ]
    },
    {
      "cell_type": "code",
      "metadata": {
        "outputId": "94ebb4ff-cb04-4944-8a09-a6540aa5729e",
        "colab": {
          "base_uri": "https://localhost:8080/"
        },
        "id": "c3SmWwqOdG9a"
      },
      "source": [
        "### Run this cell to compare cosine distances between synonyms and antonyms\n",
        "### Try the sample and then use this cell to complete Questions 11-19 in the companion quiz\n",
        "\n",
        "w1 = \"right\"\n",
        "w2 = \"correct\"\n",
        "w3 = \"wrong\"\n",
        "w1_w2_dist = wv_from_bin.distance(w1, w2)\n",
        "w1_w3_dist = wv_from_bin.distance(w1, w3)\n",
        "\n",
        "print(\"Synonyms {}, {} have cosine distance: {}\".format(w1, w2, w1_w2_dist))\n",
        "print(\"Antonyms {}, {} have cosine distance: {}\".format(w1, w3, w1_w3_dist))\n"
      ],
      "execution_count": 18,
      "outputs": [
        {
          "output_type": "stream",
          "name": "stdout",
          "text": [
            "Synonyms right, correct have cosine distance: 0.5972667038440704\n",
            "Antonyms right, wrong have cosine distance: 0.44657284021377563\n"
          ]
        }
      ]
    },
    {
      "cell_type": "code",
      "metadata": {
        "outputId": "1f603e53-8bca-44b0-f10c-a32f729c36f6",
        "colab": {
          "base_uri": "https://localhost:8080/"
        },
        "id": "NvxjQ2oVdHHm"
      },
      "source": [
        "### Run this cell to compare cosine distances between synonyms and antonyms\n",
        "### Try the sample and then use this cell to complete Questions 11-19 in the companion quiz\n",
        "\n",
        "w1 = \"big\"\n",
        "w2 = \"large\"\n",
        "w3 = \"small\"\n",
        "w1_w2_dist = wv_from_bin.distance(w1, w2)\n",
        "w1_w3_dist = wv_from_bin.distance(w1, w3)\n",
        "\n",
        "print(\"Synonyms {}, {} have cosine distance: {}\".format(w1, w2, w1_w2_dist))\n",
        "print(\"Antonyms {}, {} have cosine distance: {}\".format(w1, w3, w1_w3_dist))\n"
      ],
      "execution_count": 19,
      "outputs": [
        {
          "output_type": "stream",
          "name": "stdout",
          "text": [
            "Synonyms big, large have cosine distance: 0.44385212659835815\n",
            "Antonyms big, small have cosine distance: 0.5041321516036987\n"
          ]
        }
      ]
    },
    {
      "cell_type": "code",
      "metadata": {
        "outputId": "893c24c6-6fa6-4b2d-dae6-86ee6c4d0e6d",
        "colab": {
          "base_uri": "https://localhost:8080/"
        },
        "id": "isLrlmZ4dHSK"
      },
      "source": [
        "### Run this cell to compare cosine distances between synonyms and antonyms\n",
        "### Try the sample and then use this cell to complete Questions 11-19 in the companion quiz\n",
        "\n",
        "w1 = \"good\"\n",
        "w2 = \"nice\"\n",
        "w3 = \"bad\"\n",
        "w1_w2_dist = wv_from_bin.distance(w1, w2)\n",
        "w1_w3_dist = wv_from_bin.distance(w1, w3)\n",
        "\n",
        "print(\"Synonyms {}, {} have cosine distance: {}\".format(w1, w2, w1_w2_dist))\n",
        "print(\"Antonyms {}, {} have cosine distance: {}\".format(w1, w3, w1_w3_dist))\n"
      ],
      "execution_count": 20,
      "outputs": [
        {
          "output_type": "stream",
          "name": "stdout",
          "text": [
            "Synonyms good, nice have cosine distance: 0.3163908123970032\n",
            "Antonyms good, bad have cosine distance: 0.28099489212036133\n"
          ]
        }
      ]
    },
    {
      "cell_type": "code",
      "metadata": {
        "outputId": "0fd48117-3fb4-4678-fcb2-e01aa4eb6393",
        "colab": {
          "base_uri": "https://localhost:8080/"
        },
        "id": "oxGq-EUVdHbr"
      },
      "source": [
        "### Run this cell to compare cosine distances between synonyms and antonyms\n",
        "### Try the sample and then use this cell to complete Questions 11-19 in the companion quiz\n",
        "\n",
        "w1 = \"insane\"\n",
        "w2 = \"crazy\"\n",
        "w3 = \"sane\"\n",
        "w1_w2_dist = wv_from_bin.distance(w1, w2)\n",
        "w1_w3_dist = wv_from_bin.distance(w1, w3)\n",
        "\n",
        "print(\"Synonyms {}, {} have cosine distance: {}\".format(w1, w2, w1_w2_dist))\n",
        "print(\"Antonyms {}, {} have cosine distance: {}\".format(w1, w3, w1_w3_dist))\n"
      ],
      "execution_count": 22,
      "outputs": [
        {
          "output_type": "stream",
          "name": "stdout",
          "text": [
            "Synonyms insane, crazy have cosine distance: 0.26609575748443604\n",
            "Antonyms insane, sane have cosine distance: 0.40459734201431274\n"
          ]
        }
      ]
    },
    {
      "cell_type": "code",
      "metadata": {
        "outputId": "1f3e3797-c09f-480b-f233-b53c5cca7ad1",
        "colab": {
          "base_uri": "https://localhost:8080/"
        },
        "id": "oYqi00rVdHnd"
      },
      "source": [
        "### Run this cell to compare cosine distances between synonyms and antonyms\n",
        "### Try the sample and then use this cell to complete Questions 11-19 in the companion quiz\n",
        "\n",
        "w1 = \"several\"\n",
        "w2 = \"numerous\"\n",
        "w3 = \"one\"\n",
        "w1_w2_dist = wv_from_bin.distance(w1, w2)\n",
        "w1_w3_dist = wv_from_bin.distance(w1, w3)\n",
        "\n",
        "print(\"Synonyms {}, {} have cosine distance: {}\".format(w1, w2, w1_w2_dist))\n",
        "print(\"Antonyms {}, {} have cosine distance: {}\".format(w1, w3, w1_w3_dist))\n"
      ],
      "execution_count": 23,
      "outputs": [
        {
          "output_type": "stream",
          "name": "stdout",
          "text": [
            "Synonyms several, numerous have cosine distance: 0.20559799671173096\n",
            "Antonyms several, one have cosine distance: 0.5978294909000397\n"
          ]
        }
      ]
    },
    {
      "cell_type": "code",
      "metadata": {
        "outputId": "aeab3be5-8b15-4eb8-b955-46c1ab179cf9",
        "colab": {
          "base_uri": "https://localhost:8080/"
        },
        "id": "fpYnY06gdHx5"
      },
      "source": [
        "### Run this cell to compare cosine distances between synonyms and antonyms\n",
        "### Try the sample and then use this cell to complete Questions 11-19 in the companion quiz\n",
        "\n",
        "w1 = \"antonym\"\n",
        "w2 = \"opposite\"\n",
        "w3 = \"synonym\"\n",
        "w1_w2_dist = wv_from_bin.distance(w1, w2)\n",
        "w1_w3_dist = wv_from_bin.distance(w1, w3)\n",
        "\n",
        "print(\"Synonyms {}, {} have cosine distance: {}\".format(w1, w2, w1_w2_dist))\n",
        "print(\"Antonyms {}, {} have cosine distance: {}\".format(w1, w3, w1_w3_dist))\n"
      ],
      "execution_count": 25,
      "outputs": [
        {
          "output_type": "stream",
          "name": "stdout",
          "text": [
            "Synonyms antonym, opposite have cosine distance: 0.8862465396523476\n",
            "Antonyms antonym, synonym have cosine distance: 0.43189460039138794\n"
          ]
        }
      ]
    },
    {
      "cell_type": "markdown",
      "metadata": {
        "id": "MCV6TLW8cIJa"
      },
      "source": [
        "### Questions 6: Analogies with Word Vectors (3 points)\n",
        "Word2Vec vectors have been shown to *sometimes* exhibit the ability to solve analogies. \n",
        "\n",
        "As an example, for the analogy \"man : king :: woman : x\", what is x?\n",
        "\n",
        "In the cell below, we show you how to use word vectors to find x. The `most_similar` function finds words that are most similar to the words in the `positive` list and most dissimilar from the words in the `negative` list. **The model's proposed answer to the analogy will be the word ranked most similar (largest numerical value).**\n",
        "\n",
        "We will test whether or not the word vectors can solve a handful of pre-selected analogies. \n",
        "\n",
        "**Note:** Further Documentation on the `most_similar` function can be found within the __[GenSim documentation](https://radimrehurek.com/gensim/models/keyedvectors.html#gensim.models.keyedvectors.FastTextKeyedVectors.most_similar)__."
      ]
    },
    {
      "cell_type": "code",
      "metadata": {
        "id": "SOwdmtd5cIJa",
        "colab": {
          "base_uri": "https://localhost:8080/"
        },
        "outputId": "8241b53a-b348-4029-efe8-ac8fe28860af"
      },
      "source": [
        "# Run this cell to answer the analogy -- man : king :: woman : x\n",
        "# Try the sample and then use this cell to complete Questions 20-31 in the companion quiz\n",
        "\n",
        "pprint.pprint(wv_from_bin.most_similar(positive=['woman', 'king'], negative=['man']))"
      ],
      "execution_count": 26,
      "outputs": [
        {
          "output_type": "stream",
          "name": "stdout",
          "text": [
            "[('queen', 0.7118192911148071),\n",
            " ('monarch', 0.6189674139022827),\n",
            " ('princess', 0.5902431011199951),\n",
            " ('crown_prince', 0.5499460697174072),\n",
            " ('prince', 0.5377321243286133),\n",
            " ('kings', 0.5236844420433044),\n",
            " ('Queen_Consort', 0.5235945582389832),\n",
            " ('queens', 0.518113374710083),\n",
            " ('sultan', 0.5098593235015869),\n",
            " ('monarchy', 0.5087411999702454)]\n"
          ]
        }
      ]
    },
    {
      "cell_type": "code",
      "source": [
        ""
      ],
      "metadata": {
        "id": "CW4Jf1Y_gri8"
      },
      "execution_count": null,
      "outputs": []
    },
    {
      "cell_type": "code",
      "metadata": {
        "outputId": "09502209-f181-4a52-d0f2-08542be9c2bb",
        "colab": {
          "base_uri": "https://localhost:8080/"
        },
        "id": "KmiTLG9ug6UL"
      },
      "source": [
        "# Run this cell to answer the analogy -- man : king :: woman : x\n",
        "# Try the sample and then use this cell to complete Questions 20-31 in the companion quiz\n",
        "\n",
        "pprint.pprint(wv_from_bin.most_similar(positive=['sea', 'plane'], negative=['air']))"
      ],
      "execution_count": 27,
      "outputs": [
        {
          "output_type": "stream",
          "name": "stdout",
          "text": [
            "[('boat', 0.5355114936828613),\n",
            " ('fishing_boat', 0.5340368151664734),\n",
            " ('sailboat', 0.5244715213775635),\n",
            " ('trawler', 0.48814260959625244),\n",
            " ('fishing_trawler', 0.485969603061676),\n",
            " ('Alvei', 0.4799835681915283),\n",
            " ('inflatable_dinghy', 0.4771292209625244),\n",
            " ('vessel', 0.4747542142868042),\n",
            " ('rough_seas', 0.47456133365631104),\n",
            " ('ferry_Princess_Ashika', 0.4704197347164154)]\n"
          ]
        }
      ]
    },
    {
      "cell_type": "code",
      "metadata": {
        "outputId": "1887c0da-e631-4432-e61d-f865fac2245c",
        "colab": {
          "base_uri": "https://localhost:8080/"
        },
        "id": "fOvWzxjWg6d2"
      },
      "source": [
        "# Run this cell to answer the analogy -- man : king :: woman : x\n",
        "# Try the sample and then use this cell to complete Questions 20-31 in the companion quiz\n",
        "\n",
        "pprint.pprint(wv_from_bin.most_similar(positive=['sad', 'laugh'], negative=['happy']))"
      ],
      "execution_count": 28,
      "outputs": [
        {
          "output_type": "stream",
          "name": "stdout",
          "text": [
            "[('funny', 0.5841635465621948),\n",
            " ('joke', 0.548027515411377),\n",
            " ('chuckle', 0.526171088218689),\n",
            " ('laughing', 0.519500732421875),\n",
            " ('giggle', 0.5119887590408325),\n",
            " ('laugh_uncontrollably', 0.5067344903945923),\n",
            " ('Aaaaah', 0.49892422556877136),\n",
            " ('sarcastic_quip', 0.49803200364112854),\n",
            " ('unspeakably_sad', 0.49446696043014526),\n",
            " ('laughs', 0.4860389828681946)]\n"
          ]
        }
      ]
    },
    {
      "cell_type": "code",
      "metadata": {
        "outputId": "60115dbf-baf7-4496-cb6c-2dd75277b020",
        "colab": {
          "base_uri": "https://localhost:8080/"
        },
        "id": "OzJ_-KR6g6kk"
      },
      "source": [
        "# Run this cell to answer the analogy -- man : king :: woman : x\n",
        "# Try the sample and then use this cell to complete Questions 20-31 in the companion quiz\n",
        "\n",
        "pprint.pprint(wv_from_bin.most_similar(positive=['dog', 'kitten'], negative=['cat']))"
      ],
      "execution_count": 29,
      "outputs": [
        {
          "output_type": "stream",
          "name": "stdout",
          "text": [
            "[('puppy', 0.769972562789917),\n",
            " ('pup', 0.6861710548400879),\n",
            " ('pit_bull', 0.6776559352874756),\n",
            " ('dogs', 0.6770986318588257),\n",
            " ('Rottweiler', 0.66466224193573),\n",
            " ('pit_bull_mix', 0.6585750579833984),\n",
            " ('Pomeranian', 0.655381441116333),\n",
            " ('Labrador_retriever_mix', 0.6510828733444214),\n",
            " ('German_shepherd', 0.6490000486373901),\n",
            " ('puppies', 0.6450917720794678)]\n"
          ]
        }
      ]
    },
    {
      "cell_type": "code",
      "metadata": {
        "outputId": "b842722b-f3ff-42c2-e7f7-43519b6d0888",
        "colab": {
          "base_uri": "https://localhost:8080/"
        },
        "id": "p_JDQbxDg6r6"
      },
      "source": [
        "# Run this cell to answer the analogy -- man : king :: woman : x\n",
        "# Try the sample and then use this cell to complete Questions 20-31 in the companion quiz\n",
        "\n",
        "pprint.pprint(wv_from_bin.most_similar(positive=['Germany', 'Paris'], negative=['France']))"
      ],
      "execution_count": 30,
      "outputs": [
        {
          "output_type": "stream",
          "name": "stdout",
          "text": [
            "[('Berlin', 0.7644002437591553),\n",
            " ('Frankfurt', 0.7329736948013306),\n",
            " ('Dusseldorf', 0.7009456753730774),\n",
            " ('Munich', 0.6773864030838013),\n",
            " ('Cologne', 0.6470192670822144),\n",
            " ('Düsseldorf', 0.6399551630020142),\n",
            " ('Stuttgart', 0.6361044645309448),\n",
            " ('Munich_Germany', 0.6238142251968384),\n",
            " ('Budapest', 0.6192865371704102),\n",
            " ('Hamburg', 0.6168562769889832)]\n"
          ]
        }
      ]
    },
    {
      "cell_type": "code",
      "metadata": {
        "outputId": "9710e52e-6dae-4376-b6c2-fdee6a1bfc21",
        "colab": {
          "base_uri": "https://localhost:8080/"
        },
        "id": "PFqHeeggg6zj"
      },
      "source": [
        "# Run this cell to answer the analogy -- man : king :: woman : x\n",
        "# Try the sample and then use this cell to complete Questions 20-31 in the companion quiz\n",
        "\n",
        "pprint.pprint(wv_from_bin.most_similar(positive=['herbivore', 'meat'], negative=['carnivore']))"
      ],
      "execution_count": 31,
      "outputs": [
        {
          "output_type": "stream",
          "name": "stdout",
          "text": [
            "[('meats', 0.5703098773956299),\n",
            " ('pork', 0.4979688227176666),\n",
            " ('beef', 0.4842023551464081),\n",
            " ('unprocessed_meats', 0.4841699004173279),\n",
            " ('soy_hulls', 0.47137123346328735),\n",
            " ('veal', 0.4531157612800598),\n",
            " ('primals', 0.4516943097114563),\n",
            " ('Boneless_breast', 0.44742533564567566),\n",
            " ('toxic_alkaloids', 0.4445357620716095),\n",
            " ('goat_meat', 0.443511039018631)]\n"
          ]
        }
      ]
    },
    {
      "cell_type": "code",
      "metadata": {
        "outputId": "a8d5d0b3-dc21-4e9f-9645-9e5db2bd77af",
        "colab": {
          "base_uri": "https://localhost:8080/"
        },
        "id": "vgWEMLHRg66U"
      },
      "source": [
        "# Run this cell to answer the analogy -- man : king :: woman : x\n",
        "# Try the sample and then use this cell to complete Questions 20-31 in the companion quiz\n",
        "\n",
        "pprint.pprint(wv_from_bin.most_similar(positive=['cat', 'bark'], negative=['dog']))"
      ],
      "execution_count": 32,
      "outputs": [
        {
          "output_type": "stream",
          "name": "stdout",
          "text": [
            "[('frass', 0.5099734663963318),\n",
            " ('cambium', 0.49994856119155884),\n",
            " ('beetles_burrow', 0.4957100749015808),\n",
            " ('chittering', 0.49452582001686096),\n",
            " ('sapwood', 0.49447116255760193),\n",
            " ('barky', 0.48963040113449097),\n",
            " ('treefrogs', 0.4850967526435852),\n",
            " ('sapsuckers', 0.4804511070251465),\n",
            " ('tree_bark', 0.47680342197418213),\n",
            " ('moth_caterpillars', 0.4735950231552124)]\n"
          ]
        }
      ]
    },
    {
      "cell_type": "code",
      "metadata": {
        "outputId": "d8520936-75cd-427c-fc20-4fd1fa2922f2",
        "colab": {
          "base_uri": "https://localhost:8080/"
        },
        "id": "HkOJkJsOg7A6"
      },
      "source": [
        "# Run this cell to answer the analogy -- man : king :: woman : x\n",
        "# Try the sample and then use this cell to complete Questions 20-31 in the companion quiz\n",
        "\n",
        "pprint.pprint(wv_from_bin.most_similar(positive=['racquet', 'baseball'], negative=['bat']))"
      ],
      "execution_count": 33,
      "outputs": [
        {
          "output_type": "stream",
          "name": "stdout",
          "text": [
            "[('tennis', 0.6464535593986511),\n",
            " ('basketball', 0.5445076823234558),\n",
            " ('Tennis', 0.520628809928894),\n",
            " ('racquets', 0.515256404876709),\n",
            " ('soccer', 0.4958398938179016),\n",
            " ('sports', 0.495653361082077),\n",
            " ('softball', 0.49450376629829407),\n",
            " ('golf', 0.48922017216682434),\n",
            " ('pickleball', 0.48510220646858215),\n",
            " ('volleyball', 0.4848877191543579)]\n"
          ]
        }
      ]
    },
    {
      "cell_type": "code",
      "metadata": {
        "outputId": "0f1edf0f-8e88-45dd-9f21-4eb03a1cfd25",
        "colab": {
          "base_uri": "https://localhost:8080/"
        },
        "id": "BEEKIjGxg7IC"
      },
      "source": [
        "# Run this cell to answer the analogy -- man : king :: woman : x\n",
        "# Try the sample and then use this cell to complete Questions 20-31 in the companion quiz\n",
        "\n",
        "pprint.pprint(wv_from_bin.most_similar(positive=['church', 'Islam'], negative=['mosque']))"
      ],
      "execution_count": 34,
      "outputs": [
        {
          "output_type": "stream",
          "name": "stdout",
          "text": [
            "[('Christianity', 0.6882044076919556),\n",
            " ('Catholicism', 0.6118013262748718),\n",
            " ('Catholic_Church', 0.5610004663467407),\n",
            " ('Biblical_teachings', 0.5582910776138306),\n",
            " ('Gospel', 0.5525078773498535),\n",
            " ('Reformed_theology', 0.5480355620384216),\n",
            " ('Unitarian_Universalism', 0.5441610813140869),\n",
            " ('Roman_Catholicism', 0.5423140525817871),\n",
            " ('Jesus_Christ', 0.5416033864021301),\n",
            " ('Anglicanism', 0.5408859252929688)]\n"
          ]
        }
      ]
    },
    {
      "cell_type": "code",
      "metadata": {
        "outputId": "eb45895a-0c9a-4a52-e0c8-344b31ea4539",
        "colab": {
          "base_uri": "https://localhost:8080/"
        },
        "id": "YscsIyZFg7O0"
      },
      "source": [
        "# Run this cell to answer the analogy -- man : king :: woman : x\n",
        "# Try the sample and then use this cell to complete Questions 20-31 in the companion quiz\n",
        "\n",
        "pprint.pprint(wv_from_bin.most_similar(positive=['short', 'longer'], negative=['long']))"
      ],
      "execution_count": 35,
      "outputs": [
        {
          "output_type": "stream",
          "name": "stdout",
          "text": [
            "[('shorter', 0.5538737177848816),\n",
            " ('less', 0.4528019428253174),\n",
            " ('fewer', 0.4269722104072571),\n",
            " ('Longer', 0.4243296980857849),\n",
            " ('sooner', 0.405620276927948),\n",
            " ('Short', 0.3926800787448883),\n",
            " ('meaning', 0.3800658583641052),\n",
            " ('shorter_durations', 0.3696485757827759),\n",
            " ('more', 0.3575344681739807),\n",
            " ('smaller', 0.35055944323539734)]\n"
          ]
        }
      ]
    },
    {
      "cell_type": "code",
      "metadata": {
        "outputId": "eaee11c5-eb0d-440c-9bae-a6096202254f",
        "colab": {
          "base_uri": "https://localhost:8080/"
        },
        "id": "Fm4M1RAHg7VD"
      },
      "source": [
        "# Run this cell to answer the analogy -- man : king :: woman : x\n",
        "# Try the sample and then use this cell to complete Questions 20-31 in the companion quiz\n",
        "\n",
        "pprint.pprint(wv_from_bin.most_similar(positive=['more', 'longest'], negative=['longer']))"
      ],
      "execution_count": 36,
      "outputs": [
        {
          "output_type": "stream",
          "name": "stdout",
          "text": [
            "[('most', 0.48366793990135193),\n",
            " ('largest', 0.48115548491477966),\n",
            " ('costliest', 0.45706892013549805),\n",
            " ('biggest', 0.43423277139663696),\n",
            " ('deadliest', 0.4111884832382202),\n",
            " ('history', 0.4066246449947357),\n",
            " ('morethan', 0.4051026701927185),\n",
            " ('lengthiest', 0.40244799852371216),\n",
            " ('worst', 0.40200868248939514),\n",
            " ('steepest', 0.3986958861351013)]\n"
          ]
        }
      ]
    },
    {
      "cell_type": "code",
      "metadata": {
        "outputId": "80081480-7dbb-4b92-a91c-0470389cb564",
        "colab": {
          "base_uri": "https://localhost:8080/"
        },
        "id": "gAS82QqDg7d2"
      },
      "source": [
        "# Run this cell to answer the analogy -- man : king :: woman : x\n",
        "# Try the sample and then use this cell to complete Questions 20-31 in the companion quiz\n",
        "\n",
        "pprint.pprint(wv_from_bin.most_similar(positive=['help', 'talked'], negative=['talk']))"
      ],
      "execution_count": 37,
      "outputs": [
        {
          "output_type": "stream",
          "name": "stdout",
          "text": [
            "[('helped', 0.5876440405845642),\n",
            " ('helping', 0.5641529560089111),\n",
            " ('helps', 0.49145710468292236),\n",
            " ('assist', 0.47578394412994385),\n",
            " ('needed', 0.46895796060562134),\n",
            " ('assisting', 0.45158955454826355),\n",
            " ('worked_diligently', 0.45099586248397827),\n",
            " ('tohelp', 0.4488154351711273),\n",
            " ('worked_tirelessly', 0.4316960275173187),\n",
            " ('Helping', 0.4140826463699341)]\n"
          ]
        }
      ]
    },
    {
      "cell_type": "code",
      "metadata": {
        "outputId": "8241b53a-b348-4029-efe8-ac8fe28860af",
        "colab": {
          "base_uri": "https://localhost:8080/"
        },
        "id": "TifrlQkMg7vR"
      },
      "source": [
        "# Run this cell to answer the analogy -- man : king :: woman : x\n",
        "# Try the sample and then use this cell to complete Questions 20-31 in the companion quiz\n",
        "\n",
        "pprint.pprint(wv_from_bin.most_similar(positive=['woman', 'king'], negative=['man']))"
      ],
      "execution_count": null,
      "outputs": [
        {
          "output_type": "stream",
          "name": "stdout",
          "text": [
            "[('queen', 0.7118192911148071),\n",
            " ('monarch', 0.6189674139022827),\n",
            " ('princess', 0.5902431011199951),\n",
            " ('crown_prince', 0.5499460697174072),\n",
            " ('prince', 0.5377321243286133),\n",
            " ('kings', 0.5236844420433044),\n",
            " ('Queen_Consort', 0.5235945582389832),\n",
            " ('queens', 0.518113374710083),\n",
            " ('sultan', 0.5098593235015869),\n",
            " ('monarchy', 0.5087411999702454)]\n"
          ]
        }
      ]
    },
    {
      "cell_type": "markdown",
      "metadata": {
        "id": "4G2ozsjccIJp"
      },
      "source": [
        "### Question 7: Guided Analysis of Bias in Word Vectors (2 points)\n",
        "\n",
        "It's important to be cognizant of the biases (gender, race, sexual orientation etc.) implicit in our word embeddings. Execute the cells bellow and answer the final multiple choice question. \n",
        "\n",
        "Run the cell below, to examine (a) which terms are most similar to \"woman\" and \"doctor\" and most dissimilar to \"man\", and (b) which terms are most similar to \"man\" and \"doctor\" and most dissimilar to \"woman\"."
      ]
    },
    {
      "cell_type": "code",
      "metadata": {
        "id": "gfOf880QcIJr",
        "outputId": "dcd464fa-f55e-4304-9bd6-81a1bec9b651",
        "colab": {
          "base_uri": "https://localhost:8080/",
          "height": 381
        }
      },
      "source": [
        "# Run this cell\n",
        "# Here `positive` indicates the list of words to be similar to and `negative` indicates the list of words to be\n",
        "# most dissimilar from.\n",
        "pprint.pprint(wv_from_bin.most_similar(positive=['woman', 'doctor'], negative=['man']))\n",
        "print()\n",
        "pprint.pprint(wv_from_bin.most_similar(positive=['man', 'doctor'], negative=['woman']))"
      ],
      "execution_count": 4,
      "outputs": [
        {
          "output_type": "error",
          "ename": "KeyboardInterrupt",
          "evalue": "ignored",
          "traceback": [
            "\u001b[0;31m---------------------------------------------------------------------------\u001b[0m",
            "\u001b[0;31mKeyboardInterrupt\u001b[0m                         Traceback (most recent call last)",
            "\u001b[0;32m<ipython-input-4-52a334056cd8>\u001b[0m in \u001b[0;36m<module>\u001b[0;34m()\u001b[0m\n\u001b[1;32m      2\u001b[0m \u001b[0;31m# Here `positive` indicates the list of words to be similar to and `negative` indicates the list of words to be\u001b[0m\u001b[0;34m\u001b[0m\u001b[0;34m\u001b[0m\u001b[0;34m\u001b[0m\u001b[0m\n\u001b[1;32m      3\u001b[0m \u001b[0;31m# most dissimilar from.\u001b[0m\u001b[0;34m\u001b[0m\u001b[0;34m\u001b[0m\u001b[0;34m\u001b[0m\u001b[0m\n\u001b[0;32m----> 4\u001b[0;31m \u001b[0mpprint\u001b[0m\u001b[0;34m.\u001b[0m\u001b[0mpprint\u001b[0m\u001b[0;34m(\u001b[0m\u001b[0mwv_from_bin\u001b[0m\u001b[0;34m.\u001b[0m\u001b[0mmost_similar\u001b[0m\u001b[0;34m(\u001b[0m\u001b[0mpositive\u001b[0m\u001b[0;34m=\u001b[0m\u001b[0;34m[\u001b[0m\u001b[0;34m'woman'\u001b[0m\u001b[0;34m,\u001b[0m \u001b[0;34m'doctor'\u001b[0m\u001b[0;34m]\u001b[0m\u001b[0;34m,\u001b[0m \u001b[0mnegative\u001b[0m\u001b[0;34m=\u001b[0m\u001b[0;34m[\u001b[0m\u001b[0;34m'man'\u001b[0m\u001b[0;34m]\u001b[0m\u001b[0;34m)\u001b[0m\u001b[0;34m)\u001b[0m\u001b[0;34m\u001b[0m\u001b[0;34m\u001b[0m\u001b[0m\n\u001b[0m\u001b[1;32m      5\u001b[0m \u001b[0mprint\u001b[0m\u001b[0;34m(\u001b[0m\u001b[0;34m)\u001b[0m\u001b[0;34m\u001b[0m\u001b[0;34m\u001b[0m\u001b[0m\n\u001b[1;32m      6\u001b[0m \u001b[0mpprint\u001b[0m\u001b[0;34m.\u001b[0m\u001b[0mpprint\u001b[0m\u001b[0;34m(\u001b[0m\u001b[0mwv_from_bin\u001b[0m\u001b[0;34m.\u001b[0m\u001b[0mmost_similar\u001b[0m\u001b[0;34m(\u001b[0m\u001b[0mpositive\u001b[0m\u001b[0;34m=\u001b[0m\u001b[0;34m[\u001b[0m\u001b[0;34m'man'\u001b[0m\u001b[0;34m,\u001b[0m \u001b[0;34m'doctor'\u001b[0m\u001b[0;34m]\u001b[0m\u001b[0;34m,\u001b[0m \u001b[0mnegative\u001b[0m\u001b[0;34m=\u001b[0m\u001b[0;34m[\u001b[0m\u001b[0;34m'woman'\u001b[0m\u001b[0;34m]\u001b[0m\u001b[0;34m)\u001b[0m\u001b[0;34m)\u001b[0m\u001b[0;34m\u001b[0m\u001b[0;34m\u001b[0m\u001b[0m\n",
            "\u001b[0;32m/usr/local/lib/python3.7/dist-packages/gensim/models/keyedvectors.py\u001b[0m in \u001b[0;36mmost_similar\u001b[0;34m(self, positive, negative, topn, restrict_vocab, indexer)\u001b[0m\n\u001b[1;32m    507\u001b[0m             \u001b[0mnegative\u001b[0m \u001b[0;34m=\u001b[0m \u001b[0;34m[\u001b[0m\u001b[0;34m]\u001b[0m\u001b[0;34m\u001b[0m\u001b[0;34m\u001b[0m\u001b[0m\n\u001b[1;32m    508\u001b[0m \u001b[0;34m\u001b[0m\u001b[0m\n\u001b[0;32m--> 509\u001b[0;31m         \u001b[0mself\u001b[0m\u001b[0;34m.\u001b[0m\u001b[0minit_sims\u001b[0m\u001b[0;34m(\u001b[0m\u001b[0;34m)\u001b[0m\u001b[0;34m\u001b[0m\u001b[0;34m\u001b[0m\u001b[0m\n\u001b[0m\u001b[1;32m    510\u001b[0m \u001b[0;34m\u001b[0m\u001b[0m\n\u001b[1;32m    511\u001b[0m         \u001b[0;32mif\u001b[0m \u001b[0misinstance\u001b[0m\u001b[0;34m(\u001b[0m\u001b[0mpositive\u001b[0m\u001b[0;34m,\u001b[0m \u001b[0mstring_types\u001b[0m\u001b[0;34m)\u001b[0m \u001b[0;32mand\u001b[0m \u001b[0;32mnot\u001b[0m \u001b[0mnegative\u001b[0m\u001b[0;34m:\u001b[0m\u001b[0;34m\u001b[0m\u001b[0;34m\u001b[0m\u001b[0m\n",
            "\u001b[0;32m/usr/local/lib/python3.7/dist-packages/gensim/models/keyedvectors.py\u001b[0m in \u001b[0;36minit_sims\u001b[0;34m(self, replace)\u001b[0m\n\u001b[1;32m   1364\u001b[0m                 \u001b[0mself\u001b[0m\u001b[0;34m.\u001b[0m\u001b[0mvectors_norm\u001b[0m \u001b[0;34m=\u001b[0m \u001b[0mself\u001b[0m\u001b[0;34m.\u001b[0m\u001b[0mvectors\u001b[0m\u001b[0;34m\u001b[0m\u001b[0;34m\u001b[0m\u001b[0m\n\u001b[1;32m   1365\u001b[0m             \u001b[0;32melse\u001b[0m\u001b[0;34m:\u001b[0m\u001b[0;34m\u001b[0m\u001b[0;34m\u001b[0m\u001b[0m\n\u001b[0;32m-> 1366\u001b[0;31m                 \u001b[0mself\u001b[0m\u001b[0;34m.\u001b[0m\u001b[0mvectors_norm\u001b[0m \u001b[0;34m=\u001b[0m \u001b[0;34m(\u001b[0m\u001b[0mself\u001b[0m\u001b[0;34m.\u001b[0m\u001b[0mvectors\u001b[0m \u001b[0;34m/\u001b[0m \u001b[0msqrt\u001b[0m\u001b[0;34m(\u001b[0m\u001b[0;34m(\u001b[0m\u001b[0mself\u001b[0m\u001b[0;34m.\u001b[0m\u001b[0mvectors\u001b[0m \u001b[0;34m**\u001b[0m \u001b[0;36m2\u001b[0m\u001b[0;34m)\u001b[0m\u001b[0;34m.\u001b[0m\u001b[0msum\u001b[0m\u001b[0;34m(\u001b[0m\u001b[0;34m-\u001b[0m\u001b[0;36m1\u001b[0m\u001b[0;34m)\u001b[0m\u001b[0;34m)\u001b[0m\u001b[0;34m[\u001b[0m\u001b[0;34m...\u001b[0m\u001b[0;34m,\u001b[0m \u001b[0mnewaxis\u001b[0m\u001b[0;34m]\u001b[0m\u001b[0;34m)\u001b[0m\u001b[0;34m.\u001b[0m\u001b[0mastype\u001b[0m\u001b[0;34m(\u001b[0m\u001b[0mREAL\u001b[0m\u001b[0;34m)\u001b[0m\u001b[0;34m\u001b[0m\u001b[0;34m\u001b[0m\u001b[0m\n\u001b[0m\u001b[1;32m   1367\u001b[0m \u001b[0;34m\u001b[0m\u001b[0m\n\u001b[1;32m   1368\u001b[0m \u001b[0;34m\u001b[0m\u001b[0m\n",
            "\u001b[0;31mKeyboardInterrupt\u001b[0m: "
          ]
        }
      ]
    },
    {
      "cell_type": "markdown",
      "metadata": {
        "id": "sPuJMxMjcIJ2"
      },
      "source": [
        "# <font color=\"blue\"> Submission Instructions</font>\n",
        "\n",
        "Simply make sure you have answered all the multiple choice questions to your satisfaction, and submit!\n",
        "  "
      ]
    }
  ]
}